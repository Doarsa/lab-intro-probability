{
 "cells": [
  {
   "cell_type": "markdown",
   "metadata": {},
   "source": [
    "# Lab | Intro to Probability"
   ]
  },
  {
   "cell_type": "markdown",
   "metadata": {},
   "source": [
    "**Objective**\n",
    "\n",
    "Welcome to this Intro to Probability lab, where we explore decision-making scenarios through the lens of probability and strategic analysis. In the business world, making informed decisions is crucial, especially when faced with uncertainties. This lab focuses on scenarios where probabilistic outcomes play a significant role in shaping strategies and outcomes. Students will engage in exercises that require assessing and choosing optimal paths based on data-driven insights. The goal is to enhance your skills by applying probability concepts to solve real-world problems."
   ]
  },
  {
   "cell_type": "markdown",
   "metadata": {},
   "source": [
    "**Challenge 1**"
   ]
  },
  {
   "cell_type": "markdown",
   "metadata": {},
   "source": [
    "#### Ironhack Airlines \n",
    "\n",
    "Often Airlines sell more tickets than they have seats available, this is called overbooking. Consider the following:\n",
    "- A plane has 450 seats. \n",
    "- Based on historical data we conclude that each individual passenger has a 3% chance of missing it's flight. \n",
    "\n",
    "If the Ironhack Airlines routinely sells 460 tickets, what is the chance that they have a seats for all passenger?"
   ]
  },
  {
   "cell_type": "code",
   "execution_count": 3,
   "metadata": {},
   "outputs": [
    {
     "name": "stdout",
     "output_type": "stream",
     "text": [
      "Probability that 450 or fewer passengers show up: 88.45%\n"
     ]
    }
   ],
   "source": [
    "from scipy.stats import binom\n",
    "\n",
    "# Parameters\n",
    "n = 460         # tickets sold\n",
    "p = 0.97        # probability a passenger shows up\n",
    "k = 450         # number of seats\n",
    "\n",
    "# Calculate the probability that 450 or fewer passengers show up\n",
    "prob = binom.cdf(k, n, p)\n",
    "\n",
    "# Convert to percentage and print\n",
    "print(f\"Probability that 450 or fewer passengers show up: {prob * 100:.2f}%\")"
   ]
  },
  {
   "cell_type": "markdown",
   "metadata": {},
   "source": [
    "**Challenge 2**"
   ]
  },
  {
   "cell_type": "markdown",
   "metadata": {},
   "source": [
    "#### Ironhack Call Center "
   ]
  },
  {
   "cell_type": "markdown",
   "metadata": {},
   "source": [
    "Suppose a customer service representative at a call center is handling customer complaints. Consider the following:\n",
    "- The probability of successfully resolving a customer complaint on the first attempt is 0.3. \n",
    "\n",
    "\n",
    "What is the probability that the representative needs to make at least three attempts before successfully resolving a customer complaint?"
   ]
  },
  {
   "cell_type": "code",
   "execution_count": 4,
   "metadata": {},
   "outputs": [
    {
     "name": "stdout",
     "output_type": "stream",
     "text": [
      "Probability that it takes at least 3 attempts: 0.49 or 49.0%\n"
     ]
    }
   ],
   "source": [
    "# Geometric distribution: P(X >= 3)\n",
    "p = 0.3\n",
    "k = 3\n",
    "\n",
    "prob = (1 - p) ** (k - 1)\n",
    "print(f\"Probability that it takes at least 3 attempts: {prob:.2f} or {prob * 100:.1f}%\")\n"
   ]
  },
  {
   "cell_type": "markdown",
   "metadata": {},
   "source": [
    "**Challenge 3**"
   ]
  },
  {
   "cell_type": "markdown",
   "metadata": {},
   "source": [
    "#### Ironhack Website"
   ]
  },
  {
   "cell_type": "markdown",
   "metadata": {},
   "source": [
    "Consider a scenario related to Ironhack website traffic. Where:\n",
    "- our website takes on average 500 visits per hour.\n",
    "- the website's server is designed to handle up to 550 vists per hour.\n",
    "\n",
    "\n",
    "What is the probability of the website server being overwhelmed?"
   ]
  },
  {
   "cell_type": "code",
   "execution_count": 5,
   "metadata": {},
   "outputs": [
    {
     "name": "stdout",
     "output_type": "stream",
     "text": [
      "Probability the server is overwhelmed: 0.0120 or 1.20%\n"
     ]
    }
   ],
   "source": [
    "from scipy.stats import norm\n",
    "import math\n",
    "\n",
    "# Parameters\n",
    "lambda_rate = 500\n",
    "capacity = 550\n",
    "\n",
    "# Normal approximation\n",
    "mu = lambda_rate\n",
    "sigma = math.sqrt(lambda_rate)\n",
    "\n",
    "# Continuity correction\n",
    "z = (capacity + 0.5 - mu) / sigma\n",
    "prob_overwhelmed = 1 - norm.cdf(z)\n",
    "\n",
    "print(f\"Probability the server is overwhelmed: {prob_overwhelmed:.4f} or {prob_overwhelmed * 100:.2f}%\")\n"
   ]
  },
  {
   "cell_type": "markdown",
   "metadata": {},
   "source": [
    "What is the probability of being overwhelmed at some point during a day? (consider 24hours)"
   ]
  },
  {
   "cell_type": "code",
   "execution_count": 6,
   "metadata": {},
   "outputs": [
    {
     "name": "stdout",
     "output_type": "stream",
     "text": [
      "Probability of at least one overload in a day: 0.2497 or 24.97%\n"
     ]
    }
   ],
   "source": [
    "# Probability of being overwhelmed in one hour\n",
    "p_hourly = 0.0119\n",
    "hours = 24\n",
    "\n",
    "# Probability of at least one overload in 24 hours\n",
    "p_daily = 1 - (1 - p_hourly) ** hours\n",
    "\n",
    "print(f\"Probability of at least one overload in a day: {p_daily:.4f} or {p_daily * 100:.2f}%\")\n"
   ]
  },
  {
   "cell_type": "code",
   "execution_count": null,
   "metadata": {},
   "outputs": [],
   "source": []
  },
  {
   "cell_type": "markdown",
   "metadata": {},
   "source": [
    "**Challenge 4**"
   ]
  },
  {
   "cell_type": "markdown",
   "metadata": {},
   "source": [
    "#### Ironhack Helpdesk"
   ]
  },
  {
   "cell_type": "markdown",
   "metadata": {},
   "source": [
    "Consider a scenario related to the time between arrivals of customers at a service desk.\n",
    "\n",
    "On average, a customers arrives every 10minutes.\n",
    "\n",
    "What is the probability that the next customer will arrive within the next 5 minutes?"
   ]
  },
  {
   "cell_type": "code",
   "execution_count": 7,
   "metadata": {},
   "outputs": [
    {
     "name": "stdout",
     "output_type": "stream",
     "text": [
      "Probability that the next customer arrives within 5 minutes: 0.3935 or 39.35%\n"
     ]
    }
   ],
   "source": [
    "import math\n",
    "\n",
    "# Parameters\n",
    "lambda_rate = 1 / 10  # 1 arrival every 10 minutes\n",
    "t = 5  # time in minutes\n",
    "\n",
    "# Exponential CDF\n",
    "prob = 1 - math.exp(-lambda_rate * t)\n",
    "\n",
    "print(f\"Probability that the next customer arrives within 5 minutes: {prob:.4f} or {prob * 100:.2f}%\")\n"
   ]
  },
  {
   "cell_type": "markdown",
   "metadata": {},
   "source": [
    "If there is no customer for 15minutes, employees can that a 5minutes break.\n",
    "\n",
    "What is the probability an employee taking a break?"
   ]
  },
  {
   "cell_type": "code",
   "execution_count": 8,
   "metadata": {},
   "outputs": [
    {
     "name": "stdout",
     "output_type": "stream",
     "text": [
      "Probability employee takes a break: 0.2231 or 22.31%\n"
     ]
    }
   ],
   "source": [
    "import math\n",
    "\n",
    "lambda_rate = 1 / 10  # 0.1 per minute\n",
    "time_no_customer = 15  # minutes\n",
    "\n",
    "prob_break = math.exp(-lambda_rate * time_no_customer)\n",
    "\n",
    "print(f\"Probability employee takes a break: {prob_break:.4f} or {prob_break * 100:.2f}%\")"
   ]
  },
  {
   "cell_type": "markdown",
   "metadata": {},
   "source": [
    "**Challenge 5**"
   ]
  },
  {
   "cell_type": "markdown",
   "metadata": {},
   "source": [
    "The weights of a certain species of birds follow a normal distribution with a mean weight of 150 grams and a standard deviation of 10 grams. \n",
    "\n",
    "- If we randomly select a bird, what is the probability that its weight is between 140 and 160 grams?"
   ]
  },
  {
   "cell_type": "code",
   "execution_count": 14,
   "metadata": {},
   "outputs": [
    {
     "name": "stdout",
     "output_type": "stream",
     "text": [
      "Probability that the bird weighs between 140 and 160 grams: 0.6827 or 68.27%\n"
     ]
    }
   ],
   "source": [
    "from scipy.stats import norm\n",
    "\n",
    "mu = 150\n",
    "sigma = 10\n",
    "\n",
    "lower = 140\n",
    "upper = 160\n",
    "\n",
    "# Calculate cumulative probabilities\n",
    "p_lower = norm.cdf(lower, mu, sigma)\n",
    "p_upper = norm.cdf(upper, mu, sigma)\n",
    "\n",
    "prob = p_upper - p_lower\n",
    "print(f\"Probability that the bird weighs between 140 and 160 grams: {prob:.4f} or {prob * 100:.2f}%\")\n"
   ]
  },
  {
   "cell_type": "markdown",
   "metadata": {},
   "source": [
    "**Challenge 6**"
   ]
  },
  {
   "cell_type": "markdown",
   "metadata": {},
   "source": [
    "If the lifetime (in hours) of a certain electronic component follows an exponential distribution with a mean lifetime of 50 hours, what is the probability that the component fails within the first 30 hours?"
   ]
  },
  {
   "cell_type": "code",
   "execution_count": 15,
   "metadata": {},
   "outputs": [
    {
     "name": "stdout",
     "output_type": "stream",
     "text": [
      "Probability the component fails within 30 hours: 0.4512 or 45.12%\n"
     ]
    }
   ],
   "source": [
    "import math\n",
    "\n",
    "lambda_rate = 1 / 50\n",
    "t = 30\n",
    "\n",
    "prob_failure = 1 - math.exp(-lambda_rate * t)\n",
    "print(f\"Probability the component fails within 30 hours: {prob_failure:.4f} or {prob_failure * 100:.2f}%\")"
   ]
  }
 ],
 "metadata": {
  "kernelspec": {
   "display_name": "base",
   "language": "python",
   "name": "python3"
  },
  "language_info": {
   "codemirror_mode": {
    "name": "ipython",
    "version": 3
   },
   "file_extension": ".py",
   "mimetype": "text/x-python",
   "name": "python",
   "nbconvert_exporter": "python",
   "pygments_lexer": "ipython3",
   "version": "3.12.7"
  }
 },
 "nbformat": 4,
 "nbformat_minor": 2
}
